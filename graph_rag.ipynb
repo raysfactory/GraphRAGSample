{
 "cells": [
  {
   "cell_type": "code",
   "execution_count": 2,
   "metadata": {},
   "outputs": [
    {
     "data": {
      "text/plain": [
       "True"
      ]
     },
     "execution_count": 2,
     "metadata": {},
     "output_type": "execute_result"
    }
   ],
   "source": [
    "from langchain_core.runnables import (RunnableBranch, RunnableLambda, RunnableParallel,RunnablePassthrough)\n",
    "from langchain_core.prompts import ChatPromptTemplate\n",
    "from langchain_core.prompts.prompt import PromptTemplate\n",
    "from pydantic import BaseModel, Field\n",
    "\n",
    "from typing import Tuple, List, Optional\n",
    "from langchain_core.messages import AIMessage, HumanMessage\n",
    "from langchain_core.output_parsers import StrOutputParser\n",
    "import os\n",
    "from langchain_community.graphs import Neo4jGraph\n",
    "#from langchain.document_loaders import WikipediaLoader\n",
    "\n",
    "from langchain.text_splitter import TokenTextSplitter\n",
    "from langchain.text_splitter import CharacterTextSplitter\n",
    "from langchain.document_loaders import TextLoader\n",
    "from langchain_core.documents import Document\n",
    "\n",
    "from langchain_openai import ChatOpenAI, AzureOpenAI, AzureChatOpenAI\n",
    "from langchain_experimental.graph_transformers import LLMGraphTransformer\n",
    "from neo4j import GraphDatabase\n",
    "from yfiles_jupyter_graphs import GraphWidget\n",
    "from langchain_community.vectorstores import Neo4jVector\n",
    "from langchain_openai import OpenAIEmbeddings\n",
    "from langchain_community.vectorstores.neo4j_vector import remove_lucene_chars\n",
    "from langchain_core.runnables import ConfigurableField, RunnableParallel, RunnablePassthrough\n",
    "from dotenv import load_dotenv\n",
    "\n",
    "# load env file\n",
    "load_dotenv(\"openai.env\")"
   ]
  },
  {
   "cell_type": "code",
   "execution_count": 4,
   "metadata": {},
   "outputs": [
    {
     "name": "stderr",
     "output_type": "stream",
     "text": [
      "Received notification from DBMS server: {severity: WARNING} {code: Neo.ClientNotification.Statement.UnknownLabelWarning} {category: UNRECOGNIZED} {title: The provided label is not in the database.} {description: One of the labels in your query is not available in the database, make sure you didn't misspell it or that the label is available when you run this statement in your application (the missing label name is:  Actor)} {position: line: 1, column: 10, offset: 9} for query: \"MATCH (n:` Actor`) WHERE n.embedding IS null AND any(k in $props WHERE n[k] IS NOT null) RETURN elementId(n) AS id, reduce(str='',k IN $props | str + '\\\\n' + k + ':' + coalesce(n[k], '')) AS text LIMIT 1000\"\n"
     ]
    }
   ],
   "source": [
    "1\n",
    "vectorindexies = {\n",
    "    \"Document\" :  Neo4jVector.from_existing_graph( \n",
    "                    OpenAIEmbeddings(model=\"text-embedding-ada-002\"),\n",
    "                    search_type=\"hybrid\",\n",
    "                    node_label=\"Document\",\n",
    "                    text_node_properties=[\"text\"],\n",
    "                    embedding_node_property=\"embedding\"), \n",
    "    \"Characer\" :  Neo4jVector.from_existing_graph( \n",
    "                    OpenAIEmbeddings(model=\"text-embedding-ada-002\"),\n",
    "                    search_type=\"hybrid\",\n",
    "                    node_label=\"Charactor\",\n",
    "                    text_node_properties=[\"text\"],\n",
    "                    embedding_node_property=\"embedding\"),\n",
    "    \"Actor\" :     Neo4jVector.from_existing_graph( \n",
    "                    OpenAIEmbeddings(model=\"text-embedding-ada-002\"),\n",
    "                    search_type=\"hybrid\",\n",
    "                    node_label=\" Actor\",\n",
    "                    text_node_properties=[\"text\"],\n",
    "                    embedding_node_property=\"embedding\")\n",
    "}"
   ]
  },
  {
   "cell_type": "code",
   "execution_count": null,
   "metadata": {},
   "outputs": [],
   "source": []
  }
 ],
 "metadata": {
  "kernelspec": {
   "display_name": "Python 3",
   "language": "python",
   "name": "python3"
  },
  "language_info": {
   "codemirror_mode": {
    "name": "ipython",
    "version": 3
   },
   "file_extension": ".py",
   "mimetype": "text/x-python",
   "name": "python",
   "nbconvert_exporter": "python",
   "pygments_lexer": "ipython3",
   "version": "3.12.1"
  }
 },
 "nbformat": 4,
 "nbformat_minor": 2
}
